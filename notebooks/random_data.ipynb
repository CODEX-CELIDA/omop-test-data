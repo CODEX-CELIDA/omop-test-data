{
 "cells": [
  {
   "cell_type": "code",
   "execution_count": 5,
   "id": "309f5a84",
   "metadata": {},
   "outputs": [],
   "source": [
    "import pandas as pd\n",
    "import random\n",
    "import datetime"
   ]
  },
  {
   "cell_type": "code",
   "execution_count": 6,
   "id": "7db2b5c3",
   "metadata": {},
   "outputs": [],
   "source": [
    "# function to create a list (of patients)\n",
    "\n",
    "def createlist(num_pat):\n",
    "    return list(range(1,num_pat + 1))"
   ]
  },
  {
   "cell_type": "code",
   "execution_count": 7,
   "id": "dff2e7c2",
   "metadata": {},
   "outputs": [],
   "source": [
    "###############################\n",
    "####### SET VARIABLES #########\n",
    "###############################\n",
    "\n",
    "# set number of patients to five\n",
    "patient_list = createlist(5)\n",
    "\n",
    "# choose patient for one, limited example \n",
    "patient_id = patient_list[0]\n",
    "\n",
    "# entries to choose from\n",
    "\n",
    "# regarding person\n",
    "gender_list = [8532, 8507, 8521] # Female, Male, Other\n",
    "birthyear_range = range(1920,2003)\n",
    "race_list = [8515, 38003598, 38003614] # Asian, Black, European\n",
    "\n",
    "#regarding visits, creating a list of all dates from 2020 and 2021\n",
    "date1 = datetime.date(2020, 1, 1)\n",
    "date2 = datetime.date(2021, 12, 31)\n",
    "res_dates = [date1]\n",
    "while date1 != date2:\n",
    "    date1 += datetime.timedelta(days=1)\n",
    "    res_dates.append(date1)\n",
    "    \n",
    "# regarding diagnoses and treatment\n",
    "intensive_bin = [32037] # \"Intensive Care\"\n",
    "beatm_bin = [4230167] # \"Artificial respiration\"\n",
    "prone_bin = [4196006] # \"Placing subject in prone position\"\n",
    "condition_list = [37311061, 444247, 4009307, 432870, 440417, 4195694] # \"COVID-19\"; \"Venous Thrombosis\"; \"Heparin-induced thrombocytopenia with thrombosis\"; \"Thrombocytopenic disorder\"; \"Pulmonary Embolism\"; \"Acute respiratory distress syndrome\" \n",
    "obs_list = [4169185, 4170358] # \"Allergy to heparin\"; \"Allergy to heparinoid\"\n",
    "lab_list = [3048530, 3013466, 3029943] # \"Fibrin D-dimer DDU [Mass/volume] in Platelet poor plasma\"; \"aPTT in Blood by Coagulation assay\"; \"Horowitz index in Arterial blood\"; \n",
    "beatm_list = [3020716, 3017878, 21490650, 21490855] # \"Inhaled oxygen concentration\"; \"Tidal volume.spontaneous+mechanical/Body weight [Volume/mass] --on ventilator\"; \"Pressure max Respiratory system airway --during inspiration\"; \"PEEP Respiratory system --on ventilator\"\n",
    "drug_list = [1367571, 1322207, 1301065, 1301025, 19001014, 19016072, 1315865] # \"heparin\"; \"argatroban\"; \"dalteparin\"; \"enoxaparin\"; \"nadroparin\"; \"certoparin\"; \"fondaparinux\"; \n"
   ]
  },
  {
   "cell_type": "code",
   "execution_count": 8,
   "id": "8ce17a6a",
   "metadata": {},
   "outputs": [
    {
     "data": {
      "text/plain": [
       "[1, 2, 3, 4, 5]"
      ]
     },
     "execution_count": 8,
     "metadata": {},
     "output_type": "execute_result"
    }
   ],
   "source": [
    "patient_list"
   ]
  },
  {
   "cell_type": "code",
   "execution_count": 9,
   "id": "3ebade6b",
   "metadata": {},
   "outputs": [],
   "source": [
    "# define functions to create data\n",
    "\n",
    "# create person\n",
    "def create_person(person_id):\n",
    "    person_id = person_id\n",
    "    gender_concept_id = random.choice(gender_list)\n",
    "    year_of_birth = random.choice(birthyear_range)\n",
    "    month_of_birth = random.choice(range(1,12))\n",
    "    if month_of_birth in [1, 3, 5, 7, 8, 10, 12]:\n",
    "        day_of_birth = random.choice(range(1,31))\n",
    "    elif month_of_birth in [4, 6, 9, 11]:\n",
    "        day_of_birth = random.choice(range(1,30))\n",
    "    elif month_of_birth == 2:\n",
    "        day_of_birth = random.choice(range(1,28))\n",
    "    else:\n",
    "        pass\n",
    "    race_concept_id = random.choice(race_list)\n",
    "    ethnicity_concept_id = 0 # always set to zero!\n",
    "    print(\"year_of_birth:\", year_of_birth)\n",
    "    print(\"month_of_birth:\", month_of_birth)            \n",
    "    print(\"day_of_birth:\", day_of_birth)\n",
    "    print(\"race_concept_id:\", race_concept_id)\n",
    "    print(\"ethnicity_concept_id:\", ethnicity_concept_id)\n",
    "\n",
    "# creating only entirely intensive-care and non-intensive care visits at the moment\n",
    "def create_visit(person_id):\n",
    "    person_id = person_id\n",
    "    global intensive, ventilated, visit_concept_id, visit_start_date, visit_end_date, visit_duration, visit_type_concept_id\n",
    "    intensive = random.choice([0,1])\n",
    "    visit_concept_id = 9201 # \"Inpatient visit\"\n",
    "    visit_start_date = random.choice(res_dates)\n",
    "    visit_end_date = visit_start_date + datetime.timedelta(days = random.choice(range(3,60)))\n",
    "    visit_duration = visit_end_date - visit_start_date\n",
    "    visit_type_concept_id = 32817\n",
    "    print(\"person_id:\", person_id)\n",
    "    print(\"intensive:\", intensive)\n",
    "    print(\"visit_concept_id:\", visit_concept_id)\n",
    "    print(\"visit_start_date:\", visit_start_date)\n",
    "    print(\"visit_end_date:\", visit_end_date)\n",
    "    print(\"visit_duration:\", visit_duration)\n",
    "    print(\"visit_type_concept_id:\", visit_type_concept_id)\n",
    "    "
   ]
  },
  {
   "cell_type": "code",
   "execution_count": 46,
   "id": "a5a1dee7",
   "metadata": {},
   "outputs": [],
   "source": [
    "# create drug exposures from drug list. i = number of boluses in case of LWMH/Fondaparinux or i = number of doserate changes in case of continuous infusions\n",
    "# unsolved issue: dose/strength in case of continuous infusion unclear!\n",
    "def create_drug_exp2(person_id, i):\n",
    "    begin_drug = datetime.date(2022, 11, 1)\n",
    "    end_drug = begin_drug + datetime.timedelta(days = random.choice(range(2,30)))\n",
    "    # create dttm from date, add random number of hours to startdate midnight\n",
    "    drug_exposure_start_datetime = datetime.datetime.combine(begin_drug, datetime.datetime.min.time()) + datetime.timedelta(hours = random.choice(range(12)))    \n",
    "    drug_exposure_id = 0\n",
    "    drug_concept_id = random.choice(drug_list)\n",
    "    if drug_concept_id in [1367571, 1301065, 19001014, 19016072]:\n",
    "        drug_unit = 8510\n",
    "    elif drug_concept_id in [1322207, 1301025, 1315865]:\n",
    "        drug_unit = 8576\n",
    "    else:\n",
    "        pass\n",
    "    ingredient_concept_id = drug_concept_id\n",
    "    valid_start_date = datetime.date(1970, 1, 1)\n",
    "    # continuous infusion of drugs, quantity referring to [dose] / h \n",
    "    if drug_concept_id in [1367571, 1322207]:\n",
    "        drug_exposure_end_datetime = drug_exposure_start_datetime\n",
    "        for x in range(i):\n",
    "            drug_exposure_id += 1 \n",
    "            drug_exposure_start_datetime = drug_exposure_end_datetime + datetime.timedelta(hours=random.choice(range(2)))\n",
    "            drug_exposure_start_date = drug_exposure_start_datetime.date() # create date from dttm\n",
    "            if drug_concept_id == 1367571: # heparin in IE/h\n",
    "                quantity = random.choice(range(200, 900, 100))\n",
    "            elif drug_concept_id == 1322207: # argatroban in mg/h\n",
    "                quantity = random.choice(range(5, 10, 1))\n",
    "            else:\n",
    "                pass\n",
    "            drug_exposure_end_datetime = drug_exposure_start_datetime + datetime.timedelta(hours=random.choice(range(12)))\n",
    "            drug_exposure_end_date = drug_exposure_end_datetime.date()\n",
    "            if drug_exposure_start_date > end_drug:\n",
    "                break\n",
    "            print(\"drug_concept_id:\", drug_concept_id)\n",
    "            print(\"ingredient_concept_id:\", ingredient_concept_id)\n",
    "            print(\"drug_exposure_id:\", drug_exposure_id)\n",
    "            print(\"drug_exposure_start_date:\", drug_exposure_start_date)\n",
    "            print(\"drug_exposure_start_datetime:\", drug_exposure_start_datetime)\n",
    "            print(\"quantity:\", quantity)\n",
    "            print(\"drug_exposure_end_datetime:\", drug_exposure_end_datetime)\n",
    "            print(\"drug_exposure_end_date:\", drug_exposure_end_date)\n",
    "            print(\"end_drug:\", end_drug)\n",
    "    if drug_concept_id in [1301065, 19001014, 19016072, 1301025, 1315865]:\n",
    "        for x in range(i):\n",
    "            drug_exposure_id += 1 \n",
    "            drug_exposure_start_datetime += datetime.timedelta(hours=random.choice(range(4,20)))\n",
    "            drug_exposure_start_date = drug_exposure_start_datetime.date() # create date from dttm\n",
    "            if drug_concept_id in [1301065, 19001014]: # dalteparin, nadroparin\n",
    "                quantity = random.choice(range(3000, 15000, 1000))\n",
    "            elif drug_concept_id == 19016072: # certoparin\n",
    "                quantity = random.choice(range(1000, 4000, 500))\n",
    "            elif drug_concept_id == 1301025: # enoxaparin\n",
    "                quantity = random.choice(range(10,120,10))\n",
    "            elif drug_concept_id == 1315865: # fondaparinux\n",
    "                quantity = random.choice(range(1,4,1))\n",
    "            else:\n",
    "                pass\n",
    "            drug_exposure_end_date = drug_exposure_start_date\n",
    "            if drug_exposure_start_date > end_drug:\n",
    "                break\n",
    "            print(\"drug_concept_id:\", drug_concept_id)\n",
    "            print(\"ingredient_concept_id:\", ingredient_concept_id)\n",
    "            print(\"drug_exposure_id:\", drug_exposure_id)\n",
    "            print(\"drug_exposure_start_date:\", drug_exposure_start_date)\n",
    "            print(\"drug_exposure_start_datetime:\", drug_exposure_start_datetime)\n",
    "            print(\"quantity:\", quantity)\n",
    "            print(\"drug_exposure_end_date:\", drug_exposure_end_date)\n",
    "            print(\"end_drug:\", end_drug)\n",
    "    else:\n",
    "        pass"
   ]
  },
  {
   "cell_type": "code",
   "execution_count": 47,
   "id": "84bc863c",
   "metadata": {},
   "outputs": [
    {
     "name": "stdout",
     "output_type": "stream",
     "text": [
      "drug_concept_id: 19001014\n",
      "ingredient_concept_id: 19001014\n",
      "drug_exposure_id: 1\n",
      "drug_exposure_start_date: 2022-11-01\n",
      "drug_exposure_start_datetime: 2022-11-01 21:00:00\n",
      "quantity: 9000\n",
      "drug_exposure_end_date: 2022-11-01\n",
      "end_drug: 2022-11-03\n",
      "drug_concept_id: 19001014\n",
      "ingredient_concept_id: 19001014\n",
      "drug_exposure_id: 2\n",
      "drug_exposure_start_date: 2022-11-02\n",
      "drug_exposure_start_datetime: 2022-11-02 06:00:00\n",
      "quantity: 14000\n",
      "drug_exposure_end_date: 2022-11-02\n",
      "end_drug: 2022-11-03\n"
     ]
    }
   ],
   "source": [
    "create_drug_exp2(1, 2)"
   ]
  },
  {
   "cell_type": "code",
   "execution_count": 40,
   "id": "cb0caac1",
   "metadata": {},
   "outputs": [
    {
     "data": {
      "text/plain": [
       "datetime.date(2020, 4, 11)"
      ]
     },
     "execution_count": 40,
     "metadata": {},
     "output_type": "execute_result"
    }
   ],
   "source": [
    "visit_start_date + (random.random() * visit_duration)"
   ]
  },
  {
   "cell_type": "code",
   "execution_count": 41,
   "id": "17770124",
   "metadata": {},
   "outputs": [
    {
     "name": "stdout",
     "output_type": "stream",
     "text": [
      "year_of_birth: 1943\n",
      "month_of_birth: 4\n",
      "day_of_birth: 7\n",
      "race_concept_id: 38003614\n",
      "ethnicity_concept_id: 0\n"
     ]
    }
   ],
   "source": [
    "create_person(1)"
   ]
  },
  {
   "cell_type": "code",
   "execution_count": 42,
   "id": "43ba2569",
   "metadata": {},
   "outputs": [
    {
     "name": "stdout",
     "output_type": "stream",
     "text": [
      "person_id: 1\n",
      "intensive: 1\n",
      "visit_concept_id: 9201\n",
      "visit_start_date: 2021-10-07\n",
      "visit_end_date: 2021-12-03\n",
      "visit_duration: 57 days, 0:00:00\n",
      "visit_type_concept_id: 32817\n"
     ]
    }
   ],
   "source": [
    "create_visit(1)"
   ]
  },
  {
   "cell_type": "code",
   "execution_count": 43,
   "id": "70c546b6",
   "metadata": {},
   "outputs": [
    {
     "name": "stdout",
     "output_type": "stream",
     "text": [
      "drug_concept_id: 1322207\n",
      "drug_unit: 8576\n",
      "begin_drug: 2021-11-08\n",
      "drug_exposure_id: 1\n",
      "drug_exposure_start_date: 2021-11-08\n",
      "drug_exposure_start_datetime: 2021-11-08 12:00:00\n",
      "drug_exposure_end_date: 2021-11-08\n",
      "end_drug: 2021-11-19\n",
      "drug_concept_id: 1322207\n",
      "drug_unit: 8576\n",
      "begin_drug: 2021-11-08\n",
      "drug_exposure_id: 2\n",
      "drug_exposure_start_date: 2021-11-08\n",
      "drug_exposure_start_datetime: 2021-11-08 21:00:00\n",
      "drug_exposure_end_date: 2021-11-08\n",
      "end_drug: 2021-11-19\n",
      "drug_concept_id: 1322207\n",
      "drug_unit: 8576\n",
      "begin_drug: 2021-11-08\n",
      "drug_exposure_id: 3\n",
      "drug_exposure_start_date: 2021-11-09\n",
      "drug_exposure_start_datetime: 2021-11-09 03:00:00\n",
      "drug_exposure_end_date: 2021-11-09\n",
      "end_drug: 2021-11-19\n",
      "drug_concept_id: 1322207\n",
      "drug_unit: 8576\n",
      "begin_drug: 2021-11-08\n",
      "drug_exposure_id: 4\n",
      "drug_exposure_start_date: 2021-11-09\n",
      "drug_exposure_start_datetime: 2021-11-09 22:00:00\n",
      "drug_exposure_end_date: 2021-11-09\n",
      "end_drug: 2021-11-19\n",
      "drug_concept_id: 1322207\n",
      "drug_unit: 8576\n",
      "begin_drug: 2021-11-08\n",
      "drug_exposure_id: 5\n",
      "drug_exposure_start_date: 2021-11-10\n",
      "drug_exposure_start_datetime: 2021-11-10 17:00:00\n",
      "drug_exposure_end_date: 2021-11-10\n",
      "end_drug: 2021-11-19\n",
      "drug_concept_id: 1322207\n",
      "drug_unit: 8576\n",
      "begin_drug: 2021-11-08\n",
      "drug_exposure_id: 6\n",
      "drug_exposure_start_date: 2021-11-11\n",
      "drug_exposure_start_datetime: 2021-11-11 11:00:00\n",
      "drug_exposure_end_date: 2021-11-11\n",
      "end_drug: 2021-11-19\n",
      "drug_concept_id: 1322207\n",
      "drug_unit: 8576\n",
      "begin_drug: 2021-11-08\n",
      "drug_exposure_id: 7\n",
      "drug_exposure_start_date: 2021-11-11\n",
      "drug_exposure_start_datetime: 2021-11-11 18:00:00\n",
      "drug_exposure_end_date: 2021-11-11\n",
      "end_drug: 2021-11-19\n",
      "drug_concept_id: 1322207\n",
      "drug_unit: 8576\n",
      "begin_drug: 2021-11-08\n",
      "drug_exposure_id: 8\n",
      "drug_exposure_start_date: 2021-11-12\n",
      "drug_exposure_start_datetime: 2021-11-12 11:00:00\n",
      "drug_exposure_end_date: 2021-11-12\n",
      "end_drug: 2021-11-19\n",
      "drug_concept_id: 1322207\n",
      "drug_unit: 8576\n",
      "begin_drug: 2021-11-08\n",
      "drug_exposure_id: 9\n",
      "drug_exposure_start_date: 2021-11-13\n",
      "drug_exposure_start_datetime: 2021-11-13 02:00:00\n",
      "drug_exposure_end_date: 2021-11-13\n",
      "end_drug: 2021-11-19\n",
      "drug_concept_id: 1322207\n",
      "drug_unit: 8576\n",
      "begin_drug: 2021-11-08\n",
      "drug_exposure_id: 10\n",
      "drug_exposure_start_date: 2021-11-13\n",
      "drug_exposure_start_datetime: 2021-11-13 19:00:00\n",
      "drug_exposure_end_date: 2021-11-13\n",
      "end_drug: 2021-11-19\n"
     ]
    }
   ],
   "source": [
    "create_drug_exp(1,10)"
   ]
  },
  {
   "cell_type": "code",
   "execution_count": 41,
   "id": "7a7e2742",
   "metadata": {},
   "outputs": [
    {
     "ename": "TypeError",
     "evalue": "an integer is required (got type datetime.date)",
     "output_type": "error",
     "traceback": [
      "\u001b[0;31m---------------------------------------------------------------------------\u001b[0m",
      "\u001b[0;31mTypeError\u001b[0m                                 Traceback (most recent call last)",
      "Input \u001b[0;32mIn [41]\u001b[0m, in \u001b[0;36m<cell line: 1>\u001b[0;34m()\u001b[0m\n\u001b[0;32m----> 1\u001b[0m drug_exposure_start_datetime \u001b[38;5;241m=\u001b[39m \u001b[43mdatetime\u001b[49m\u001b[38;5;241;43m.\u001b[39;49m\u001b[43mdatetime\u001b[49m\u001b[43m(\u001b[49m\u001b[43mdrug_exposure_start_date\u001b[49m\u001b[43m)\u001b[49m\n",
      "\u001b[0;31mTypeError\u001b[0m: an integer is required (got type datetime.date)"
     ]
    }
   ],
   "source": [
    "drug_exposure_start_datetime = datetime.datetime(drug_exposure_start_date)\n",
    "#drug_exposure_start_date + datetime.timedelta(minutes = 100)"
   ]
  },
  {
   "cell_type": "code",
   "execution_count": 40,
   "id": "e76bdbc1",
   "metadata": {},
   "outputs": [
    {
     "data": {
      "text/plain": [
       "datetime.date(2021, 2, 23)"
      ]
     },
     "execution_count": 40,
     "metadata": {},
     "output_type": "execute_result"
    }
   ],
   "source": [
    "drug_exposure_start_date"
   ]
  },
  {
   "cell_type": "code",
   "execution_count": 39,
   "id": "02c4a028",
   "metadata": {},
   "outputs": [
    {
     "data": {
      "text/plain": [
       "datetime.date(2021, 2, 23)"
      ]
     },
     "execution_count": 39,
     "metadata": {},
     "output_type": "execute_result"
    }
   ],
   "source": [
    "drug_exposure_start_datetime"
   ]
  },
  {
   "cell_type": "code",
   "execution_count": 12,
   "id": "89caf5d5",
   "metadata": {},
   "outputs": [
    {
     "name": "stdout",
     "output_type": "stream",
     "text": [
      "year_of_birth: 1987\n",
      "month_of_birth: 11\n",
      "day_of_birth: 1\n",
      "race_concept_id: 38003598\n",
      "ethnicity_concept_id: 0\n",
      "person_id: 1\n",
      "intensive: 1\n",
      "visit_concept_id: 9201\n",
      "visit_start_date: 2021-02-18\n",
      "visit_end_date: 2021-04-09\n",
      "visit_duration: 50 days, 0:00:00\n",
      "visit_type_concept_id: 32817\n",
      "person_id: 1\n",
      "drug_concept_id: 1315865\n",
      "drug_exposure_start_date: 2021-03-13\n",
      "drug_exposure_end_date: 2021-08-26\n",
      "drug_unit: 8576\n"
     ]
    }
   ],
   "source": [
    "# call functions\n",
    "create_person(1)\n",
    "create_visit(1)\n",
    "\n"
   ]
  },
  {
   "cell_type": "code",
   "execution_count": null,
   "id": "a6477e0a",
   "metadata": {},
   "outputs": [],
   "source": []
  }
 ],
 "metadata": {
  "kernelspec": {
   "display_name": "Python 3 (ipykernel)",
   "language": "python",
   "name": "python3"
  },
  "language_info": {
   "codemirror_mode": {
    "name": "ipython",
    "version": 3
   },
   "file_extension": ".py",
   "mimetype": "text/x-python",
   "name": "python",
   "nbconvert_exporter": "python",
   "pygments_lexer": "ipython3",
   "version": "3.9.12"
  }
 },
 "nbformat": 4,
 "nbformat_minor": 5
}
