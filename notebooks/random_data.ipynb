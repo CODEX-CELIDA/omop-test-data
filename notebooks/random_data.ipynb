{
 "cells": [
  {
   "cell_type": "code",
   "execution_count": 32,
   "id": "a4cbc72c",
   "metadata": {},
   "outputs": [],
   "source": [
    "import pandas as pd\n",
    "import random\n",
    "import datetime"
   ]
  },
  {
   "cell_type": "code",
   "execution_count": 33,
   "id": "50734dce",
   "metadata": {},
   "outputs": [],
   "source": [
    "patient_list = [1,2,3,4,5]\n",
    "\n",
    "patient_id = patient_list[0]\n",
    "\n",
    "# entries to choose from\n",
    "# regarding person\n",
    "gender_list = [8532, 8507, 8521] # Female, Male, Other\n",
    "birthyear_range = range(1920,2003)\n",
    "race_list = [8515, 38003598, 38003614] # Asian, Black, European\n",
    "\n",
    "#regarding visits, creating a list of all dates from 2020 and 2021\n",
    "date1 = datetime.date(2020, 1, 1)\n",
    "date2 = datetime.date(2021, 12, 31)\n",
    "res_dates = [date1]\n",
    "while date1 != date2:\n",
    "    date1 += datetime.timedelta(days=1)\n",
    "    res_dates.append(date1)\n",
    "    \n",
    "# regarding diagnoses and treatment\n",
    "intensive_bin = [32037] # \"Intensive Care\"\n",
    "beatm_bin = [4230167] # \"Artificial respiration\"\n",
    "prone_bin = [4196006] # \"Placing subject in prone position\"\n",
    "condition_list = [37311061, 444247, 4009307, 432870, 440417, 4195694] # \"COVID-19\"; \"Venous Thrombosis\"; \"Heparin-induced thrombocytopenia with thrombosis\"; \"Thrombocytopenic disorder\"; \"Pulmonary Embolism\"; \"Acute respiratory distress syndrome\" \n",
    "obs_list = [4169185, 4170358] # \"Allergy to heparin\"; \"Allergy to heparinoid\"\n",
    "lab_list = [3048530, 3013466, 3029943] # \"Fibrin D-dimer DDU [Mass/volume] in Platelet poor plasma\"; \"aPTT in Blood by Coagulation assay\"; \"Horowitz index in Arterial blood\"; \n",
    "beatm_list = [3020716, 3017878, 21490650, 21490855] # \"Inhaled oxygen concentration\"; \"Tidal volume.spontaneous+mechanical/Body weight [Volume/mass] --on ventilator\"; \"Pressure max Respiratory system airway --during inspiration\"; \"PEEP Respiratory system --on ventilator\"\n",
    "drug_list = [1367571, 1322207, 1301065, 1301025, 19001014, 19016072, 1315865] # \"heparin\"; \"argatroban\"; \"dalteparin\"; \"enoxaparin\"; \"nadroparin\"; \"certoparin\"; \"fondaparinux\"; \n",
    "\n"
   ]
  },
  {
   "cell_type": "code",
   "execution_count": 34,
   "id": "26ac2ca4",
   "metadata": {},
   "outputs": [],
   "source": [
    "# define functions to create data\n",
    "\n",
    "# create person\n",
    "def create_person(person_id):\n",
    "    person_id = person_id\n",
    "    gender_concept_id = random.choice(gender_list)\n",
    "    year_of_birth = random.choice(birthyear_range)\n",
    "    month_of_birth = random.choice(range(1,12))\n",
    "    if month_of_birth in [1, 3, 5, 7, 8, 10, 12]:\n",
    "        day_of_birth = random.choice(range(1,31))\n",
    "    elif month_of_birth in [4, 6, 9, 11]:\n",
    "        day_of_birth = random.choice(range(1,30))\n",
    "    elif month_of_birth == 2:\n",
    "        day_of_birth = random.choice(range(1,28))\n",
    "    else:\n",
    "        pass\n",
    "    race_concept_id = random.choice(race_list)\n",
    "    ethnicity_concept_id = 0 # always set to zero!\n",
    "    print(\"year_of_birth:\", year_of_birth)\n",
    "    print(\"month_of_birth:\", month_of_birth)            \n",
    "    print(\"day_of_birth:\", day_of_birth)\n",
    "    print(\"race_concept_id:\", race_concept_id)\n",
    "    print(\"ethnicity_concept_id:\", ethnicity_concept_id)\n",
    "\n",
    "# creating only entirely intensive-care and non-intensive care visits at the moment\n",
    "def create_visit(person_id):\n",
    "    person_id = person_id\n",
    "    global intensive, ventilated, visit_concept_id, visit_start_date, visit_end_date, visit_duration, visit_type_concept_id\n",
    "    intensive = random.choice([0,1])\n",
    "    visit_concept_id = 9201 # \"Inpatient visit\"\n",
    "    visit_start_date = random.choice(res_dates)\n",
    "    visit_end_date = visit_start_date + datetime.timedelta(days = random.choice(range(3,60)))\n",
    "    visit_duration = visit_end_date - visit_start_date\n",
    "    visit_type_concept_id = 32817\n",
    "    print(\"person_id:\", person_id)\n",
    "    print(\"intensive:\", intensive)\n",
    "    print(\"visit_concept_id:\", visit_concept_id)\n",
    "    print(\"visit_start_date:\", visit_start_date)\n",
    "    print(\"visit_end_date:\", visit_end_date)\n",
    "    print(\"visit_duration:\", visit_duration)\n",
    "    print(\"visit_type_concept_id:\", visit_type_concept_id)\n",
    "    \n",
    "\n",
    "    "
   ]
  },
  {
   "cell_type": "code",
   "execution_count": 35,
   "id": "5a6518d2",
   "metadata": {},
   "outputs": [],
   "source": [
    "# create drug_exposures\n",
    "def create_drug_exp(person_id): \n",
    "    person_id = person_id\n",
    "    global drug_concept_id, drug_exposure_start_date, drug_exposure_end_date\n",
    "    drug_concept_id = random.choice(drug_list)\n",
    "    drug_exposure_start_date = visit_start_date + (random.random() * visit_duration)\n",
    "    drug_exposure_end_date = drug_exposure_start_date\n",
    "    drug_exposure_start_datetime = \n",
    "    \n",
    "    # drug_exposure_start_date = visit_start_date + datetime.timedelta(days = random.choice(range(0,3)))\n",
    "    # drug_exposure_end_date = visit_end_date - datetime.timedelta(days = random.choice(range(0,3)))\n",
    "    \n",
    "    if drug_concept_id in [1367571, 1301065, 19001014, 19016072]:\n",
    "        drug_unit = 8510\n",
    "    elif drug_concept_id in [1322207, 1301025, 1315865]:\n",
    "        drug_unit = 8576\n",
    "    else:\n",
    "        pass\n",
    "    #drug_quan\n",
    "\n",
    "   # \"quantity\": 75,\n",
    "   # \"drug_type_concept_id\": 32817\n",
    "    print(\"person_id:\", person_id)\n",
    "    print(\"drug_concept_id:\", drug_concept_id)\n",
    "    print(\"drug_exposure_start_date:\", drug_exposure_start_date)\n",
    "    print(\"drug_exposure_end_date:\", drug_exposure_end_date)\n",
    "    print(\"drug_unit:\", drug_unit)\n"
   ]
  },
  {
   "cell_type": "code",
   "execution_count": 36,
   "id": "c3c8b2e8",
   "metadata": {},
   "outputs": [
    {
     "name": "stdout",
     "output_type": "stream",
     "text": [
      "person_id: 1\n",
      "drug_concept_id: 1301065\n",
      "drug_exposure_start_date: 2021-02-23\n",
      "drug_exposure_end_date: 2021-02-23\n",
      "drug_unit: 8510\n"
     ]
    }
   ],
   "source": [
    "create_drug_exp(1)"
   ]
  },
  {
   "cell_type": "code",
   "execution_count": 57,
   "id": "1382fc01",
   "metadata": {},
   "outputs": [],
   "source": [
    "# create dttm from date\n",
    "dt = datetime.datetime.combine(drug_exposure_start_date, datetime.datetime.min.time())"
   ]
  },
  {
   "cell_type": "code",
   "execution_count": 50,
   "id": "daf9c0af",
   "metadata": {},
   "outputs": [
    {
     "data": {
      "text/plain": [
       "datetime.datetime(2021, 2, 23, 0, 0)"
      ]
     },
     "execution_count": 50,
     "metadata": {},
     "output_type": "execute_result"
    }
   ],
   "source": [
    "dt"
   ]
  },
  {
   "cell_type": "code",
   "execution_count": 67,
   "id": "32dbc058",
   "metadata": {},
   "outputs": [],
   "source": [
    "dt_1 = dt + datetime.timedelta(hours = random.choice(range(1,12)))\n",
    "dt_2 = dt_1 + datetime.timedelta(hours = random.choice(range(1,12)))"
   ]
  },
  {
   "cell_type": "code",
   "execution_count": 68,
   "id": "de9a982e",
   "metadata": {},
   "outputs": [
    {
     "data": {
      "text/plain": [
       "datetime.datetime(2021, 2, 23, 4, 0)"
      ]
     },
     "execution_count": 68,
     "metadata": {},
     "output_type": "execute_result"
    }
   ],
   "source": [
    "dt_1"
   ]
  },
  {
   "cell_type": "code",
   "execution_count": 55,
   "id": "60560b44",
   "metadata": {},
   "outputs": [
    {
     "name": "stdout",
     "output_type": "stream",
     "text": [
      "Help on built-in function time:\n",
      "\n",
      "time(...) method of datetime.datetime instance\n",
      "    Return time object with same time but with tzinfo=None.\n",
      "\n"
     ]
    }
   ],
   "source": [
    "help (datetime.datetime.min.time)"
   ]
  },
  {
   "cell_type": "code",
   "execution_count": 41,
   "id": "efb375f6",
   "metadata": {},
   "outputs": [
    {
     "ename": "TypeError",
     "evalue": "an integer is required (got type datetime.date)",
     "output_type": "error",
     "traceback": [
      "\u001b[0;31m---------------------------------------------------------------------------\u001b[0m",
      "\u001b[0;31mTypeError\u001b[0m                                 Traceback (most recent call last)",
      "Input \u001b[0;32mIn [41]\u001b[0m, in \u001b[0;36m<cell line: 1>\u001b[0;34m()\u001b[0m\n\u001b[0;32m----> 1\u001b[0m drug_exposure_start_datetime \u001b[38;5;241m=\u001b[39m \u001b[43mdatetime\u001b[49m\u001b[38;5;241;43m.\u001b[39;49m\u001b[43mdatetime\u001b[49m\u001b[43m(\u001b[49m\u001b[43mdrug_exposure_start_date\u001b[49m\u001b[43m)\u001b[49m\n",
      "\u001b[0;31mTypeError\u001b[0m: an integer is required (got type datetime.date)"
     ]
    }
   ],
   "source": [
    "drug_exposure_start_datetime = datetime.datetime(drug_exposure_start_date)\n",
    "#drug_exposure_start_date + datetime.timedelta(minutes = 100)"
   ]
  },
  {
   "cell_type": "code",
   "execution_count": 40,
   "id": "77c74d31",
   "metadata": {},
   "outputs": [
    {
     "data": {
      "text/plain": [
       "datetime.date(2021, 2, 23)"
      ]
     },
     "execution_count": 40,
     "metadata": {},
     "output_type": "execute_result"
    }
   ],
   "source": [
    "drug_exposure_start_date"
   ]
  },
  {
   "cell_type": "code",
   "execution_count": 39,
   "id": "0d049e56",
   "metadata": {},
   "outputs": [
    {
     "data": {
      "text/plain": [
       "datetime.date(2021, 2, 23)"
      ]
     },
     "execution_count": 39,
     "metadata": {},
     "output_type": "execute_result"
    }
   ],
   "source": [
    "drug_exposure_start_datetime"
   ]
  },
  {
   "cell_type": "code",
   "execution_count": 12,
   "id": "fb1bf4a7",
   "metadata": {},
   "outputs": [
    {
     "name": "stdout",
     "output_type": "stream",
     "text": [
      "year_of_birth: 1987\n",
      "month_of_birth: 11\n",
      "day_of_birth: 1\n",
      "race_concept_id: 38003598\n",
      "ethnicity_concept_id: 0\n",
      "person_id: 1\n",
      "intensive: 1\n",
      "visit_concept_id: 9201\n",
      "visit_start_date: 2021-02-18\n",
      "visit_end_date: 2021-04-09\n",
      "visit_duration: 50 days, 0:00:00\n",
      "visit_type_concept_id: 32817\n",
      "person_id: 1\n",
      "drug_concept_id: 1315865\n",
      "drug_exposure_start_date: 2021-03-13\n",
      "drug_exposure_end_date: 2021-08-26\n",
      "drug_unit: 8576\n"
     ]
    }
   ],
   "source": [
    "# call functions\n",
    "create_person(1)\n",
    "create_visit(1)\n",
    "\n"
   ]
  },
  {
   "cell_type": "code",
   "execution_count": null,
   "id": "3d975ee7",
   "metadata": {},
   "outputs": [],
   "source": []
  }
 ],
 "metadata": {
  "kernelspec": {
   "display_name": "Python 3 (ipykernel)",
   "language": "python",
   "name": "python3"
  },
  "language_info": {
   "codemirror_mode": {
    "name": "ipython",
    "version": 3
   },
   "file_extension": ".py",
   "mimetype": "text/x-python",
   "name": "python",
   "nbconvert_exporter": "python",
   "pygments_lexer": "ipython3",
   "version": "3.9.12"
  }
 },
 "nbformat": 4,
 "nbformat_minor": 5
}
